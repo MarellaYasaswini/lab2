{
  "nbformat": 4,
  "nbformat_minor": 0,
  "metadata": {
    "colab": {
      "name": "lab2(3).ipynb",
      "provenance": []
    },
    "kernelspec": {
      "name": "python3",
      "display_name": "Python 3"
    }
  },
  "cells": [
    {
      "cell_type": "code",
      "metadata": {
        "id": "_6m1-8eILv0F",
        "colab_type": "code",
        "colab": {
          "base_uri": "https://localhost:8080/",
          "height": 1000
        },
        "outputId": "aade1d1f-cc35-4f33-fe21-5aa51cd0a44f"
      },
      "source": [
        "%tensorflow_version 1.15\n",
        "import tensorflow as tf\n",
        "from keras import Sequential\n",
        "import numpy as np\n",
        "from keras.layers import Dense\n",
        "from keras.utils import to_categorical\n",
        "from keras.preprocessing.image import ImageDataGenerator, load_img\n",
        "import os\n",
        "from sklearn.model_selection import train_test_split\n",
        "import matplotlib.pyplot as plt\n",
        "from keras.layers import Dense, Flatten, Dropout, Input\n",
        "from keras.constraints import maxnorm\n",
        "from keras.models import Model\n",
        "from keras.optimizers import SGD, Adam\n",
        "from keras.layers.convolutional import Conv2D, MaxPooling2D\n",
        "from keras.utils import np_utils\n",
        "from keras import backend as K\n",
        "K.common.image_dim_ordering()\n",
        "\n",
        "from google.colab import drive\n",
        "drive.mount('/content/drive')\n",
        "\n",
        "label=['n0','n1','n2','n3','n4','n5','n6','n7','n8','n9']\n",
        "\n",
        "import glob\n",
        "import cv2\n",
        "images_training=[]\n",
        "c=0\n",
        "for filename in glob.glob('/content/drive/My Drive/10-monkey-species/training/training/n0/*.jpg'):\n",
        "    image = cv2.imread(filename)\n",
        "    output_image = cv2.resize(image, (28,28))\n",
        "    images_training.append([output_image,0])\n",
        "\n",
        "for filename in glob.glob('/content/drive/My Drive/10-monkey-species/training/training/n1/*.jpg'):\n",
        "    image = cv2.imread(filename)\n",
        "    output_image = cv2.resize(output_image, (28,28))\n",
        "    images_training.append([output_image,1])\n",
        "\n",
        "for filename in glob.glob('/content/drive/My Drive/10-monkey-species/training/training/n2/*.jpg'):\n",
        "    image = cv2.imread(filename)\n",
        "    output_image = cv2.resize(output_image, (28,28))\n",
        "    images_training.append([output_image,2])\n",
        "\n",
        "for filename in glob.glob('/content/drive/My Drive/10-monkey-species/training/training/n3/*.jpg'):\n",
        "    image = cv2.imread(filename)\n",
        "    output_image = cv2.resize(output_image, (28,28))\n",
        "    images_training.append([output_image,3])\n",
        "\n",
        "for filename in glob.glob('/content/drive/My Drive/10-monkey-species/training/training/n4/*.jpg'):\n",
        "    image = cv2.imread(filename)\n",
        "    output_image = cv2.resize(output_image, (28,28))\n",
        "    images_training.append([output_image,4])\n",
        "\n",
        "for filename in glob.glob('/content/drive/My Drive/10-monkey-species/training/training/n5/*.jpg'):\n",
        "    image = cv2.imread(filename)\n",
        "    output_image = cv2.resize(output_image, (28,28))\n",
        "    images_training.append([output_image,5])\n",
        "\n",
        "for filename in glob.glob('/content/drive/My Drive/10-monkey-species/training/training/n6/*.jpg'):\n",
        "    image = cv2.imread(filename)\n",
        "    output_image = cv2.resize(output_image, (28,28))\n",
        "    images_training.append([output_image,6])\n",
        "\n",
        "for filename in glob.glob('/content/drive/My Drive/10-monkey-species/training/training/n7/*.jpg'):\n",
        "    image = cv2.imread(filename)\n",
        "    output_image = cv2.resize(output_image, (28,28))\n",
        "    images_training.append([output_image,7])\n",
        "\n",
        "for filename in glob.glob('/content/drive/My Drive/10-monkey-species/training/training/n8/*.jpg'):\n",
        "    image = cv2.imread(filename)\n",
        "    output_image = cv2.resize(output_image, (28,28))\n",
        "    images_training.append([output_image,8])\n",
        "\n",
        "for filename in glob.glob('/content/drive/My Drive/10-monkey-species/training/training/n9/*.jpg'):\n",
        "    image = cv2.imread(filename)\n",
        "    output_image = cv2.resize(output_image, (28,28))\n",
        "    images_training.append([output_image,9])\n",
        "\n",
        "x=[]\n",
        "y=[]\n",
        "for im,label in images_training:\n",
        "  x.append(im)\n",
        "  y.append(label)\n",
        "\n",
        "x=np.array(x).reshape(-1,28,28,3)\n",
        "\n",
        "x_train,x_test,y_train,y_test=train_test_split(x,y,test_size=0.2, random_state=3)\n",
        "\n",
        "import matplotlib.pyplot as plt\n",
        "plt.imshow(x_train[10,:,:],cmap='gray')\n",
        "plt.title('Ground Truth : {}'.format(y_train[10]))\n",
        "plt.show()\n",
        "\n",
        "x_test = x_test.astype('float32')\n",
        "x_train = x_train.astype('float32')\n",
        "x_train = x_train / 255.0\n",
        "x_test = x_test / 255.0\n",
        "\n",
        "y_train = np_utils.to_categorical(y_train)\n",
        "y_test = np_utils.to_categorical(y_test)\n",
        "num_classes = y_test.shape[1]\n",
        "\n",
        "classifier = Sequential()\n",
        "classifier.add(Conv2D(64, (3, 3), input_shape=(x_train.shape[1:]), padding='same', activation='relu'))\n",
        "classifier.add(Dropout(0.5))\n",
        "classifier.add(MaxPooling2D(pool_size=(2, 2)))\n",
        "classifier.add(Dropout(0.5))\n",
        "classifier.add(Flatten())\n",
        "classifier.add(Dense(64, activation='relu', kernel_constraint=maxnorm(3)))\n",
        "classifier.add(Dropout(0.3))\n",
        "classifier.add(Dense(num_classes, activation='softmax'))\n",
        "\n",
        "epochs = 10\n",
        "lrate = 0.001\n",
        "decay = lrate/epochs\n",
        "sgd = Adam(lr=lrate)\n",
        "classifier.compile(loss='binary_crossentropy', optimizer=sgd, metrics=['accuracy'])\n",
        "\n",
        "x1=classifier.predict_classes(x_test[[2],:])\n",
        "print(x1[0])\n",
        "print(y_test[2])\n",
        "\n",
        "past=classifier.fit(x_train, y_train, validation_data=(x_test, y_test), epochs=epochs, batch_size=64)\n",
        "\n",
        "import matplotlib.pyplot as plt\n",
        "plt.imshow(x_test[2,:,:],cmap='gray')\n",
        "plt.title('Ground Truth : {}'.format(y_test[2]))\n",
        "plt.show()\n",
        "\n",
        "classifier.save(\"mod.h5\")\n",
        "\n",
        "import matplotlib.pyplot as plt\n",
        "plt.plot(past.history['accuracy'])\n",
        "plt.plot(past.history['val_accuracy'])\n",
        "plt.plot(past.history['loss'])\n",
        "plt.plot(past.history['val_loss'])\n",
        "plt.title('classifier accuracy')\n",
        "plt.ylabel('accuracy')\n",
        "plt.xlabel('epoch')\n",
        "plt.legend(['accuray', 'validation accuracy','loss','val_loss'], loc='upper left')\n",
        "plt.show()"
      ],
      "execution_count": 1,
      "outputs": [
        {
          "output_type": "stream",
          "text": [
            "`%tensorflow_version` only switches the major version: 1.x or 2.x.\n",
            "You set: `1.15`. This will be interpreted as: `1.x`.\n",
            "\n",
            "\n",
            "TensorFlow 1.x selected.\n"
          ],
          "name": "stdout"
        },
        {
          "output_type": "stream",
          "text": [
            "Using TensorFlow backend.\n"
          ],
          "name": "stderr"
        },
        {
          "output_type": "stream",
          "text": [
            "Go to this URL in a browser: https://accounts.google.com/o/oauth2/auth?client_id=947318989803-6bn6qk8qdgf4n4g3pfee6491hc0brc4i.apps.googleusercontent.com&redirect_uri=urn%3aietf%3awg%3aoauth%3a2.0%3aoob&response_type=code&scope=email%20https%3a%2f%2fwww.googleapis.com%2fauth%2fdocs.test%20https%3a%2f%2fwww.googleapis.com%2fauth%2fdrive%20https%3a%2f%2fwww.googleapis.com%2fauth%2fdrive.photos.readonly%20https%3a%2f%2fwww.googleapis.com%2fauth%2fpeopleapi.readonly\n",
            "\n",
            "Enter your authorization code:\n",
            "··········\n",
            "Mounted at /content/drive\n"
          ],
          "name": "stdout"
        },
        {
          "output_type": "display_data",
          "data": {
            "image/png": "[encoded data removed]",
            "text/plain": [
              "<Figure size 432x288 with 1 Axes>"
            ]
          },
          "metadata": {
            "tags": [],
            "needs_background": "light"
          }
        },
        {
          "output_type": "stream",
          "text": [
            "WARNING:tensorflow:From /tensorflow-1.15.2/python3.6/tensorflow_core/python/ops/resource_variable_ops.py:1630: calling BaseResourceVariable.__init__ (from tensorflow.python.ops.resource_variable_ops) with constraint is deprecated and will be removed in a future version.\n",
            "Instructions for updating:\n",
            "If using Keras pass *_constraint arguments to layers.\n",
            "WARNING:tensorflow:From /usr/local/lib/python3.6/dist-packages/keras/backend/tensorflow_backend.py:4070: The name tf.nn.max_pool is deprecated. Please use tf.nn.max_pool2d instead.\n",
            "\n",
            "WARNING:tensorflow:From /usr/local/lib/python3.6/dist-packages/keras/backend/tensorflow_backend.py:422: The name tf.global_variables is deprecated. Please use tf.compat.v1.global_variables instead.\n",
            "\n",
            "1\n",
            "[0. 1. 0. 0. 0. 0. 0. 0. 0. 0.]\n",
            "WARNING:tensorflow:From /tensorflow-1.15.2/python3.6/tensorflow_core/python/ops/math_grad.py:1424: where (from tensorflow.python.ops.array_ops) is deprecated and will be removed in a future version.\n",
            "Instructions for updating:\n",
            "Use tf.where in 2.0, which has the same broadcast rule as np.where\n",
            "Train on 878 samples, validate on 220 samples\n",
            "Epoch 1/10\n",
            "878/878 [==============================] - 2s 2ms/step - loss: 0.3359 - accuracy: 0.8989 - val_loss: 0.3137 - val_accuracy: 0.9000\n",
            "Epoch 2/10\n",
            "878/878 [==============================] - 2s 2ms/step - loss: 0.3065 - accuracy: 0.9051 - val_loss: 0.2963 - val_accuracy: 0.9077\n",
            "Epoch 3/10\n",
            "878/878 [==============================] - 2s 2ms/step - loss: 0.2973 - accuracy: 0.9084 - val_loss: 0.2901 - val_accuracy: 0.9100\n",
            "Epoch 4/10\n",
            "878/878 [==============================] - 2s 2ms/step - loss: 0.2941 - accuracy: 0.9093 - val_loss: 0.2897 - val_accuracy: 0.9109\n",
            "Epoch 5/10\n",
            "878/878 [==============================] - 2s 2ms/step - loss: 0.2937 - accuracy: 0.9093 - val_loss: 0.2881 - val_accuracy: 0.9109\n",
            "Epoch 6/10\n",
            "878/878 [==============================] - 2s 2ms/step - loss: 0.2925 - accuracy: 0.9093 - val_loss: 0.2875 - val_accuracy: 0.9109\n",
            "Epoch 7/10\n",
            "878/878 [==============================] - 2s 2ms/step - loss: 0.2923 - accuracy: 0.9092 - val_loss: 0.2877 - val_accuracy: 0.9109\n",
            "Epoch 8/10\n",
            "878/878 [==============================] - 2s 2ms/step - loss: 0.2918 - accuracy: 0.9092 - val_loss: 0.2850 - val_accuracy: 0.9109\n",
            "Epoch 9/10\n",
            "878/878 [==============================] - 2s 2ms/step - loss: 0.2919 - accuracy: 0.9093 - val_loss: 0.2859 - val_accuracy: 0.9109\n",
            "Epoch 10/10\n",
            "878/878 [==============================] - 2s 2ms/step - loss: 0.2907 - accuracy: 0.9093 - val_loss: 0.2848 - val_accuracy: 0.9109\n"
          ],
          "name": "stdout"
        },
        {
          "output_type": "display_data",
          "data": {
            "image/png": "[encoded data removed]",
            "text/plain": [
              "<Figure size 432x288 with 1 Axes>"
            ]
          },
          "metadata": {
            "tags": [],
            "needs_background": "light"
          }
        },
        {
          "output_type": "display_data",
          "data": {
            "image/png": "[encoded data removed]",
            "text/plain": [
              "<Figure size 432x288 with 1 Axes>"
            ]
          },
          "metadata": {
            "tags": [],
            "needs_background": "light"
          }
        }
      ]
    }
  ]
}